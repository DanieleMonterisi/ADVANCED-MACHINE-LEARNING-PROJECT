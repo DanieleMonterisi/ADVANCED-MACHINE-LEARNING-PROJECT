{
  "nbformat": 4,
  "nbformat_minor": 0,
  "metadata": {
    "colab": {
      "name": "LSTM_MULTI_EDA.ipynb",
      "provenance": [],
      "collapsed_sections": []
    },
    "kernelspec": {
      "name": "python3",
      "display_name": "Python 3"
    },
    "accelerator": "GPU"
  },
  "cells": [
    {
      "cell_type": "code",
      "metadata": {
        "colab": {
          "base_uri": "https://localhost:8080/"
        },
        "id": "Dig3EviD9GRo",
        "outputId": "33bc78f9-e6d3-4dad-ac85-9d435d87cf1c"
      },
      "source": [
        "import torch\r\n",
        "\r\n",
        "if torch.cuda.is_available():       \r\n",
        "    device = torch.device(\"cuda\")\r\n",
        "    print(f'There are {torch.cuda.device_count()} GPU(s) available.')\r\n",
        "    print('Device name:', torch.cuda.get_device_name(0))\r\n",
        "\r\n",
        "else:\r\n",
        "    print('No GPU available, using the CPU instead.')\r\n",
        "    device = torch.device(\"cpu\")"
      ],
      "execution_count": 1,
      "outputs": [
        {
          "output_type": "stream",
          "text": [
            "There are 1 GPU(s) available.\n",
            "Device name: Tesla K80\n"
          ],
          "name": "stdout"
        }
      ]
    },
    {
      "cell_type": "code",
      "metadata": {
        "id": "o5HI49hS1spT"
      },
      "source": [
        "import numpy as np\r\n",
        "import pandas as pd\r\n",
        "from tensorflow.keras.preprocessing.sequence import pad_sequences\r\n",
        "from tensorflow.keras.preprocessing.text import Tokenizer\r\n",
        "import numpy as np\r\n",
        "from scipy import spatial\r\n",
        "import matplotlib.pyplot as plt\r\n",
        "from sklearn.manifold import TSNE\r\n",
        "import re\r\n",
        "from tqdm import tqdm_notebook\r\n",
        "\r\n",
        "from nltk.corpus import stopwords\r\n",
        "\r\n",
        "from tensorflow.keras import regularizers, initializers, optimizers, callbacks\r\n",
        "from tensorflow.keras.preprocessing.sequence import pad_sequences\r\n",
        "from tensorflow.keras.preprocessing.text import Tokenizer\r\n",
        "from keras.utils.np_utils import to_categorical\r\n",
        "from tensorflow.keras.layers import *\r\n",
        "from tensorflow.keras.models import Model"
      ],
      "execution_count": 2,
      "outputs": []
    },
    {
      "cell_type": "code",
      "metadata": {
        "id": "VNcYNsHt3WZo"
      },
      "source": [
        "MAX_NB_WORDS = 100000    # max no. of words for tokenizer\r\n",
        "MAX_SEQUENCE_LENGTH = 100 # max length of each entry (sentence), including padding\r\n",
        "VALIDATION_SPLIT = 0.2   # data for validation (not used in training)\r\n",
        "EMBEDDING_DIM = 100\r\n",
        "GLOVE_DIR = r\"glove.twitter.27B.100d.txt\""
      ],
      "execution_count": 3,
      "outputs": []
    },
    {
      "cell_type": "code",
      "metadata": {
        "colab": {
          "base_uri": "https://localhost:8080/"
        },
        "id": "j6oczzwM0SWj",
        "outputId": "9e26fe67-f3c0-4979-adbd-d3e4c455edc7"
      },
      "source": [
        "import os \r\n",
        "from google.colab import drive\r\n",
        "drive.mount('/content/drive')\r\n",
        "os.chdir('/content/drive/My Drive/DATASET AML/')"
      ],
      "execution_count": 7,
      "outputs": [
        {
          "output_type": "stream",
          "text": [
            "Mounted at /content/drive\n"
          ],
          "name": "stdout"
        }
      ]
    },
    {
      "cell_type": "markdown",
      "metadata": {
        "id": "I-MLgeP53S8w"
      },
      "source": [
        "# Import Glove"
      ]
    },
    {
      "cell_type": "code",
      "metadata": {
        "id": "Zrcj7fB63RhE",
        "colab": {
          "base_uri": "https://localhost:8080/"
        },
        "outputId": "9f507151-501a-4bf4-92ad-be03082afb57"
      },
      "source": [
        "embeddings_index = {}\r\n",
        "f = open(GLOVE_DIR, encoding=\"utf8\")\r\n",
        "print('Loading GloVe from:', GLOVE_DIR,'...', end='')\r\n",
        "for line in f:\r\n",
        "    values = line.split()\r\n",
        "    word = values[0]\r\n",
        "    embeddings_index[word] = np.asarray(values[1:], dtype='float32')\r\n",
        "f.close()\r\n",
        "print(\"Done.\\n Proceeding with Embedding Matrix...\", end=\"\")\r\n"
      ],
      "execution_count": 8,
      "outputs": [
        {
          "output_type": "stream",
          "text": [
            "Loading GloVe from: glove.twitter.27B.100d.txt ...Done.\n",
            " Proceeding with Embedding Matrix..."
          ],
          "name": "stdout"
        }
      ]
    },
    {
      "cell_type": "code",
      "metadata": {
        "colab": {
          "base_uri": "https://localhost:8080/"
        },
        "id": "OI2EAia3z8Lm",
        "outputId": "3d662c08-a2bd-4fa1-cd60-08f2f25fd5e0"
      },
      "source": [
        ""
      ],
      "execution_count": null,
      "outputs": [
        {
          "output_type": "stream",
          "text": [
            "Mounted at /content/drive\n"
          ],
          "name": "stdout"
        }
      ]
    },
    {
      "cell_type": "markdown",
      "metadata": {
        "id": "Xr8fe3PV3d3q"
      },
      "source": [
        "#Import Dataset"
      ]
    },
    {
      "cell_type": "markdown",
      "metadata": {
        "id": "O455U1_A34Xc"
      },
      "source": [
        "EDA BINARY"
      ]
    },
    {
      "cell_type": "code",
      "metadata": {
        "id": "ahXvINcW3k2m"
      },
      "source": [
        "os.chdir('/content/drive/My Drive/DATASET AML/PROJECT/dataset_giusti')"
      ],
      "execution_count": 9,
      "outputs": []
    },
    {
      "cell_type": "code",
      "metadata": {
        "id": "gtMElYbL3dFZ",
        "colab": {
          "base_uri": "https://localhost:8080/",
          "height": 204
        },
        "outputId": "6b929de6-6e1b-42c5-f8a9-d59a5e4b8df0"
      },
      "source": [
        "train = pd.read_csv(\"MULTILABEL_augmented_EDA_senza_stopword_FINAL.csv\")\r\n",
        "train[\"comment_text\"] = train[\"comment_text\"].astype(str)\r\n",
        "train.head()"
      ],
      "execution_count": 10,
      "outputs": [
        {
          "output_type": "execute_result",
          "data": {
            "text/html": [
              "<div>\n",
              "<style scoped>\n",
              "    .dataframe tbody tr th:only-of-type {\n",
              "        vertical-align: middle;\n",
              "    }\n",
              "\n",
              "    .dataframe tbody tr th {\n",
              "        vertical-align: top;\n",
              "    }\n",
              "\n",
              "    .dataframe thead th {\n",
              "        text-align: right;\n",
              "    }\n",
              "</style>\n",
              "<table border=\"1\" class=\"dataframe\">\n",
              "  <thead>\n",
              "    <tr style=\"text-align: right;\">\n",
              "      <th></th>\n",
              "      <th>comment_text</th>\n",
              "      <th>toxic</th>\n",
              "      <th>severe_toxic</th>\n",
              "      <th>obscene</th>\n",
              "      <th>threat</th>\n",
              "      <th>insult</th>\n",
              "      <th>identity_hate</th>\n",
              "    </tr>\n",
              "  </thead>\n",
              "  <tbody>\n",
              "    <tr>\n",
              "      <th>0</th>\n",
              "      <td>well u say really hurt u block bitch tit ur pu...</td>\n",
              "      <td>1</td>\n",
              "      <td>1</td>\n",
              "      <td>1</td>\n",
              "      <td>0</td>\n",
              "      <td>1</td>\n",
              "      <td>0</td>\n",
              "    </tr>\n",
              "    <tr>\n",
              "      <th>1</th>\n",
              "      <td>dont know think cocksucker whole load shite ph...</td>\n",
              "      <td>1</td>\n",
              "      <td>1</td>\n",
              "      <td>1</td>\n",
              "      <td>0</td>\n",
              "      <td>1</td>\n",
              "      <td>0</td>\n",
              "    </tr>\n",
              "    <tr>\n",
              "      <th>2</th>\n",
              "      <td>robert palmer respect intend binknsternet kiss...</td>\n",
              "      <td>1</td>\n",
              "      <td>0</td>\n",
              "      <td>1</td>\n",
              "      <td>0</td>\n",
              "      <td>1</td>\n",
              "      <td>0</td>\n",
              "    </tr>\n",
              "    <tr>\n",
              "      <th>3</th>\n",
              "      <td>keep head man not let uppity bitch get man one...</td>\n",
              "      <td>1</td>\n",
              "      <td>0</td>\n",
              "      <td>1</td>\n",
              "      <td>0</td>\n",
              "      <td>1</td>\n",
              "      <td>0</td>\n",
              "    </tr>\n",
              "    <tr>\n",
              "      <th>4</th>\n",
              "      <td>naked mum sex indeed faggot suck tour dad cock...</td>\n",
              "      <td>1</td>\n",
              "      <td>1</td>\n",
              "      <td>1</td>\n",
              "      <td>0</td>\n",
              "      <td>1</td>\n",
              "      <td>1</td>\n",
              "    </tr>\n",
              "  </tbody>\n",
              "</table>\n",
              "</div>"
            ],
            "text/plain": [
              "                                        comment_text  ...  identity_hate\n",
              "0  well u say really hurt u block bitch tit ur pu...  ...              0\n",
              "1  dont know think cocksucker whole load shite ph...  ...              0\n",
              "2  robert palmer respect intend binknsternet kiss...  ...              0\n",
              "3  keep head man not let uppity bitch get man one...  ...              0\n",
              "4  naked mum sex indeed faggot suck tour dad cock...  ...              1\n",
              "\n",
              "[5 rows x 7 columns]"
            ]
          },
          "metadata": {
            "tags": []
          },
          "execution_count": 10
        }
      ]
    },
    {
      "cell_type": "markdown",
      "metadata": {
        "id": "z89MdPP-3o6w"
      },
      "source": [
        "#Tokenization and Embedding"
      ]
    },
    {
      "cell_type": "code",
      "metadata": {
        "id": "_q0DDGEk3rdD",
        "colab": {
          "base_uri": "https://localhost:8080/"
        },
        "outputId": "d6daa8a6-3b0f-4f6e-c308-87aa492d9089"
      },
      "source": [
        "tokenizer = Tokenizer(num_words=MAX_NB_WORDS)\r\n",
        "tokenizer.fit_on_texts(train['comment_text'].values)\r\n",
        "sequences = tokenizer.texts_to_sequences(train[\"comment_text\"])\r\n",
        "word_index = tokenizer.word_index\r\n",
        "print('Vocabulary size:', len(word_index))"
      ],
      "execution_count": 11,
      "outputs": [
        {
          "output_type": "stream",
          "text": [
            "Vocabulary size: 32510\n"
          ],
          "name": "stdout"
        }
      ]
    },
    {
      "cell_type": "code",
      "metadata": {
        "id": "MK5SJTZN3tF5",
        "colab": {
          "base_uri": "https://localhost:8080/"
        },
        "outputId": "edc38134-febc-43dc-bdf5-9d403637ef9d"
      },
      "source": [
        "embeddings_dict = {}\r\n",
        "\r\n",
        "for word, i in word_index.items():\r\n",
        "    embedding_vector = embeddings_index.get(word)\r\n",
        "    if embedding_vector is not None:\r\n",
        "        embeddings_dict[word] = embedding_vector\r\n",
        "print(\" Completed!\")"
      ],
      "execution_count": 12,
      "outputs": [
        {
          "output_type": "stream",
          "text": [
            " Completed!\n"
          ],
          "name": "stdout"
        }
      ]
    },
    {
      "cell_type": "code",
      "metadata": {
        "id": "hEzMtyee4Cax"
      },
      "source": [
        "tsne = TSNE(n_components=2, random_state=0)\r\n",
        "words =  list(embeddings_dict.keys())\r\n",
        "vectors = [embeddings_dict[word] for word in words]"
      ],
      "execution_count": 13,
      "outputs": []
    },
    {
      "cell_type": "code",
      "metadata": {
        "id": "yA5fK-is4DGy"
      },
      "source": [
        "data = pad_sequences(sequences, padding = 'post', maxlen = MAX_SEQUENCE_LENGTH)"
      ],
      "execution_count": 14,
      "outputs": []
    },
    {
      "cell_type": "code",
      "metadata": {
        "id": "v88-l-Am4Js5"
      },
      "source": [
        "labels = ['toxic', 'severe_toxic', 'obscene', 'threat', 'insult', 'identity_hate']\r\n",
        "y = train[labels].values"
      ],
      "execution_count": 15,
      "outputs": []
    },
    {
      "cell_type": "code",
      "metadata": {
        "id": "mMtbZHbf4Lfg",
        "colab": {
          "base_uri": "https://localhost:8080/"
        },
        "outputId": "b8db09db-bd50-4458-d28f-8ea7da2e91da"
      },
      "source": [
        "print('Shape of data tensor:', data.shape)\r\n",
        "print('Shape of label tensor:', y.shape)"
      ],
      "execution_count": 16,
      "outputs": [
        {
          "output_type": "stream",
          "text": [
            "Shape of data tensor: (23181, 100)\n",
            "Shape of label tensor: (23181, 6)\n"
          ],
          "name": "stdout"
        }
      ]
    },
    {
      "cell_type": "code",
      "metadata": {
        "id": "SkY8pV9c4NIK"
      },
      "source": [
        "indices = np.arange(data.shape[0])\r\n",
        "np.random.shuffle(indices)\r\n",
        "data = data[indices]\r\n",
        "labels = y[indices]"
      ],
      "execution_count": 17,
      "outputs": []
    },
    {
      "cell_type": "code",
      "metadata": {
        "id": "TDn5y6ne4N2D",
        "colab": {
          "base_uri": "https://localhost:8080/"
        },
        "outputId": "6dfda9ae-d47a-48a4-810a-128ae3da2d1d"
      },
      "source": [
        "num_validation_samples = int(VALIDATION_SPLIT*data.shape[0])\r\n",
        "x_train = data[: -num_validation_samples]\r\n",
        "y_train = labels[: -num_validation_samples]\r\n",
        "x_val = data[-num_validation_samples: ]\r\n",
        "y_val = labels[-num_validation_samples: ]\r\n",
        "print('Number of entries in each category:')\r\n",
        "print('training: ', y_train.sum(axis=0))\r\n",
        "print('validation: ', y_val.sum(axis=0))"
      ],
      "execution_count": 18,
      "outputs": [
        {
          "output_type": "stream",
          "text": [
            "Number of entries in each category:\n",
            "training:  [17581  4527 11343  1483 10882  4001]\n",
            "validation:  [4405 1108 2806  371 2671 1036]\n"
          ],
          "name": "stdout"
        }
      ]
    },
    {
      "cell_type": "code",
      "metadata": {
        "id": "s9bN-5TR4Plp",
        "colab": {
          "base_uri": "https://localhost:8080/"
        },
        "outputId": "7ca17253-d249-45d9-b6a2-ccdc48d292d6"
      },
      "source": [
        "print('Tokenized sentences: \\n', data[20])\r\n",
        "print('One hot label: \\n', labels[20])"
      ],
      "execution_count": 19,
      "outputs": [
        {
          "output_type": "stream",
          "text": [
            "Tokenized sentences: \n",
            " [306   9  10   0   0   0   0   0   0   0   0   0   0   0   0   0   0   0\n",
            "   0   0   0   0   0   0   0   0   0   0   0   0   0   0   0   0   0   0\n",
            "   0   0   0   0   0   0   0   0   0   0   0   0   0   0   0   0   0   0\n",
            "   0   0   0   0   0   0   0   0   0   0   0   0   0   0   0   0   0   0\n",
            "   0   0   0   0   0   0   0   0   0   0   0   0   0   0   0   0   0   0\n",
            "   0   0   0   0   0   0   0   0   0   0]\n",
            "One hot label: \n",
            " [1 0 0 0 1 1]\n"
          ],
          "name": "stdout"
        }
      ]
    },
    {
      "cell_type": "code",
      "metadata": {
        "id": "QFnm5GTl4RZa",
        "colab": {
          "base_uri": "https://localhost:8080/"
        },
        "outputId": "de854000-050a-437c-eed4-fa9c1547fc9b"
      },
      "source": [
        "embedding_matrix = np.random.random((len(word_index) + 1, EMBEDDING_DIM))\r\n",
        "for word, i in word_index.items():\r\n",
        "    embedding_vector = embeddings_index.get(word)\r\n",
        "    if embedding_vector is not None:\r\n",
        "        embedding_matrix[i] = embedding_vector\r\n",
        "print(\" Completed!\")"
      ],
      "execution_count": 20,
      "outputs": [
        {
          "output_type": "stream",
          "text": [
            " Completed!\n"
          ],
          "name": "stdout"
        }
      ]
    },
    {
      "cell_type": "markdown",
      "metadata": {
        "id": "S3kg7aVX4SJT"
      },
      "source": [
        "#LSTM MODEL"
      ]
    },
    {
      "cell_type": "code",
      "metadata": {
        "id": "FZ65Naop7Ngt"
      },
      "source": [
        "from tensorflow.keras.layers import Bidirectional\r\n",
        "import tensorflow as tf\r\n",
        "callback = tf.keras.callbacks.EarlyStopping(monitor='val_loss', patience=1)\r\n",
        "import keras"
      ],
      "execution_count": 23,
      "outputs": []
    },
    {
      "cell_type": "code",
      "metadata": {
        "id": "kiaU-0U04U1D"
      },
      "source": [
        "sequence_input = Input(shape=(MAX_SEQUENCE_LENGTH,), dtype='int32')\r\n",
        "embedding_layer = Embedding(len(word_index) + 1,\r\n",
        "                           EMBEDDING_DIM,\r\n",
        "                           weights = [embedding_matrix],\r\n",
        "                           input_length = MAX_SEQUENCE_LENGTH,\r\n",
        "                           trainable=False,\r\n",
        "                           name = 'embeddings')\r\n",
        "embedded_sequences = embedding_layer(sequence_input)\r\n",
        "x = (Bidirectional(LSTM(60, return_sequences=True,name='lstm_layer')))(embedded_sequences)\r\n",
        "x = GlobalMaxPool1D()(x)\r\n",
        "x = Dropout(0.1)(x)\r\n",
        "x = Dense(50, activation=\"relu\")(x)\r\n",
        "x = Dropout(0.1)(x)\r\n",
        "preds = Dense(6, activation=\"sigmoid\")(x)"
      ],
      "execution_count": 27,
      "outputs": []
    },
    {
      "cell_type": "code",
      "metadata": {
        "id": "nZ0EbrJT4Wai"
      },
      "source": [
        "model = Model(sequence_input, preds)\r\n",
        "model.compile(loss = 'binary_crossentropy',\r\n",
        "             optimizer='adam',\r\n",
        "             metrics = [tf.keras.metrics.Recall()])"
      ],
      "execution_count": 28,
      "outputs": []
    },
    {
      "cell_type": "code",
      "metadata": {
        "id": "3gjC_eqz4YKK",
        "colab": {
          "base_uri": "https://localhost:8080/"
        },
        "outputId": "b0376176-0588-4a9a-b7b1-5b166e18de2d"
      },
      "source": [
        "print('Training progress:')\r\n",
        "history = model.fit(x_train, y_train, epochs = 4, batch_size=128, validation_data=(x_val, y_val), verbose = 2)"
      ],
      "execution_count": 29,
      "outputs": [
        {
          "output_type": "stream",
          "text": [
            "Training progress:\n",
            "Epoch 1/4\n",
            "145/145 - 10s - loss: 0.4320 - recall_1: 0.7578 - val_loss: 0.3625 - val_recall_1: 0.7764\n",
            "Epoch 2/4\n",
            "145/145 - 5s - loss: 0.3494 - recall_1: 0.7989 - val_loss: 0.3303 - val_recall_1: 0.8170\n",
            "Epoch 3/4\n",
            "145/145 - 5s - loss: 0.3222 - recall_1: 0.8230 - val_loss: 0.3159 - val_recall_1: 0.8321\n",
            "Epoch 4/4\n",
            "145/145 - 5s - loss: 0.3063 - recall_1: 0.8383 - val_loss: 0.3032 - val_recall_1: 0.8344\n"
          ],
          "name": "stdout"
        }
      ]
    },
    {
      "cell_type": "code",
      "metadata": {
        "id": "qpHLKwJq4bpi",
        "colab": {
          "base_uri": "https://localhost:8080/",
          "height": 295
        },
        "outputId": "9dcee875-fb3e-4707-efde-8f07c090b5af"
      },
      "source": [
        "loss = history.history['loss']\r\n",
        "val_loss = history.history['val_loss']\r\n",
        "epochs = range(1, len(loss)+1)\r\n",
        "plt.plot(epochs, loss, label='Training loss')\r\n",
        "plt.plot(epochs, val_loss, label='Validation loss')\r\n",
        "plt.title('Training and validation loss')\r\n",
        "plt.xlabel('Epochs')\r\n",
        "plt.ylabel('Loss')\r\n",
        "plt.legend()\r\n",
        "plt.show();"
      ],
      "execution_count": 30,
      "outputs": [
        {
          "output_type": "display_data",
          "data": {
            "image/png": "[encoded data removed]",
            "text/plain": [
              "<Figure size 432x288 with 1 Axes>"
            ]
          },
          "metadata": {
            "tags": [],
            "needs_background": "light"
          }
        }
      ]
    },
    {
      "cell_type": "code",
      "metadata": {
        "id": "p7waHhZn4cTh",
        "colab": {
          "base_uri": "https://localhost:8080/",
          "height": 295
        },
        "outputId": "8a35d480-3ef8-44b7-e0a8-d6cb532effa3"
      },
      "source": [
        "accuracy = history.history['recall_1']\r\n",
        "val_accuracy = history.history['val_recall_1']\r\n",
        "plt.plot(epochs, accuracy, label='Training recall')\r\n",
        "plt.plot(epochs, val_accuracy, label='Validation recall')\r\n",
        "plt.title('Training and validation recall')\r\n",
        "plt.ylabel('recall')\r\n",
        "plt.xlabel('Epochs')\r\n",
        "plt.legend()\r\n",
        "plt.show();"
      ],
      "execution_count": 33,
      "outputs": [
        {
          "output_type": "display_data",
          "data": {
            "image/png": "[encoded data removed]",
            "text/plain": [
              "<Figure size 432x288 with 1 Axes>"
            ]
          },
          "metadata": {
            "tags": [],
            "needs_background": "light"
          }
        }
      ]
    },
    {
      "cell_type": "code",
      "metadata": {
        "id": "2yBxV1Sb8lsT"
      },
      "source": [
        ""
      ],
      "execution_count": null,
      "outputs": []
    },
    {
      "cell_type": "markdown",
      "metadata": {
        "id": "bI7CKyOU8xX1"
      },
      "source": [
        "# Test"
      ]
    },
    {
      "cell_type": "code",
      "metadata": {
        "id": "dFvJQlnj83E8"
      },
      "source": [
        "os.chdir('/content/drive/My Drive/DATASET AML/PROJECT/dataset_giusti/TEST')"
      ],
      "execution_count": 34,
      "outputs": []
    },
    {
      "cell_type": "code",
      "metadata": {
        "id": "TsqV9fho85N2"
      },
      "source": [
        "test = pd.read_csv(\"test_multilabel_senza_stopword.csv\")"
      ],
      "execution_count": 35,
      "outputs": []
    },
    {
      "cell_type": "code",
      "metadata": {
        "colab": {
          "base_uri": "https://localhost:8080/",
          "height": 606
        },
        "id": "josjq9v09NTG",
        "outputId": "0abb75cb-75e8-4064-c489-24b4519dd490"
      },
      "source": [
        "test"
      ],
      "execution_count": 36,
      "outputs": [
        {
          "output_type": "execute_result",
          "data": {
            "text/html": [
              "<div>\n",
              "<style scoped>\n",
              "    .dataframe tbody tr th:only-of-type {\n",
              "        vertical-align: middle;\n",
              "    }\n",
              "\n",
              "    .dataframe tbody tr th {\n",
              "        vertical-align: top;\n",
              "    }\n",
              "\n",
              "    .dataframe thead th {\n",
              "        text-align: right;\n",
              "    }\n",
              "</style>\n",
              "<table border=\"1\" class=\"dataframe\">\n",
              "  <thead>\n",
              "    <tr style=\"text-align: right;\">\n",
              "      <th></th>\n",
              "      <th>Unnamed: 0</th>\n",
              "      <th>Unnamed: 0.1</th>\n",
              "      <th>comment_text</th>\n",
              "      <th>toxic</th>\n",
              "      <th>severe_toxic</th>\n",
              "      <th>obscene</th>\n",
              "      <th>threat</th>\n",
              "      <th>insult</th>\n",
              "      <th>identity_hate</th>\n",
              "    </tr>\n",
              "  </thead>\n",
              "  <tbody>\n",
              "    <tr>\n",
              "      <th>0</th>\n",
              "      <td>8</td>\n",
              "      <td>21</td>\n",
              "      <td>arab commit genocide iraq protest europe may e...</td>\n",
              "      <td>1</td>\n",
              "      <td>0</td>\n",
              "      <td>0</td>\n",
              "      <td>0</td>\n",
              "      <td>0</td>\n",
              "      <td>0</td>\n",
              "    </tr>\n",
              "    <tr>\n",
              "      <th>1</th>\n",
              "      <td>24</td>\n",
              "      <td>48</td>\n",
              "      <td>dj robinson gay hell suck dick much</td>\n",
              "      <td>1</td>\n",
              "      <td>0</td>\n",
              "      <td>1</td>\n",
              "      <td>0</td>\n",
              "      <td>1</td>\n",
              "      <td>1</td>\n",
              "    </tr>\n",
              "    <tr>\n",
              "      <th>2</th>\n",
              "      <td>29</td>\n",
              "      <td>59</td>\n",
              "      <td>fuck antisemitic cunt</td>\n",
              "      <td>1</td>\n",
              "      <td>0</td>\n",
              "      <td>1</td>\n",
              "      <td>0</td>\n",
              "      <td>1</td>\n",
              "      <td>0</td>\n",
              "    </tr>\n",
              "    <tr>\n",
              "      <th>3</th>\n",
              "      <td>38</td>\n",
              "      <td>76</td>\n",
              "      <td>dare vandalize page hm beagle not vandalize demon</td>\n",
              "      <td>1</td>\n",
              "      <td>0</td>\n",
              "      <td>0</td>\n",
              "      <td>0</td>\n",
              "      <td>0</td>\n",
              "      <td>0</td>\n",
              "    </tr>\n",
              "    <tr>\n",
              "      <th>4</th>\n",
              "      <td>40</td>\n",
              "      <td>81</td>\n",
              "      <td>arrogant self serve immature idiot get right</td>\n",
              "      <td>1</td>\n",
              "      <td>0</td>\n",
              "      <td>1</td>\n",
              "      <td>0</td>\n",
              "      <td>1</td>\n",
              "      <td>0</td>\n",
              "    </tr>\n",
              "    <tr>\n",
              "      <th>...</th>\n",
              "      <td>...</td>\n",
              "      <td>...</td>\n",
              "      <td>...</td>\n",
              "      <td>...</td>\n",
              "      <td>...</td>\n",
              "      <td>...</td>\n",
              "      <td>...</td>\n",
              "      <td>...</td>\n",
              "      <td>...</td>\n",
              "    </tr>\n",
              "    <tr>\n",
              "      <th>6238</th>\n",
              "      <td>63877</td>\n",
              "      <td>152908</td>\n",
              "      <td>nigel crazy idiot</td>\n",
              "      <td>1</td>\n",
              "      <td>0</td>\n",
              "      <td>0</td>\n",
              "      <td>0</td>\n",
              "      <td>1</td>\n",
              "      <td>0</td>\n",
              "    </tr>\n",
              "    <tr>\n",
              "      <th>6239</th>\n",
              "      <td>63935</td>\n",
              "      <td>153049</td>\n",
              "      <td>well not feel stupid</td>\n",
              "      <td>0</td>\n",
              "      <td>0</td>\n",
              "      <td>0</td>\n",
              "      <td>0</td>\n",
              "      <td>1</td>\n",
              "      <td>0</td>\n",
              "    </tr>\n",
              "    <tr>\n",
              "      <th>6240</th>\n",
              "      <td>63945</td>\n",
              "      <td>153078</td>\n",
              "      <td>fourth baldrick possibly cleverer make anyone ...</td>\n",
              "      <td>1</td>\n",
              "      <td>0</td>\n",
              "      <td>0</td>\n",
              "      <td>0</td>\n",
              "      <td>0</td>\n",
              "      <td>0</td>\n",
              "    </tr>\n",
              "    <tr>\n",
              "      <th>6241</th>\n",
              "      <td>63962</td>\n",
              "      <td>153119</td>\n",
              "      <td>iran thats right iran drone spread homosexual ...</td>\n",
              "      <td>1</td>\n",
              "      <td>0</td>\n",
              "      <td>1</td>\n",
              "      <td>0</td>\n",
              "      <td>0</td>\n",
              "      <td>0</td>\n",
              "    </tr>\n",
              "    <tr>\n",
              "      <th>6242</th>\n",
              "      <td>63976</td>\n",
              "      <td>153155</td>\n",
              "      <td>mel gibson nazi bitch make shitty movie much b...</td>\n",
              "      <td>1</td>\n",
              "      <td>0</td>\n",
              "      <td>1</td>\n",
              "      <td>0</td>\n",
              "      <td>1</td>\n",
              "      <td>0</td>\n",
              "    </tr>\n",
              "  </tbody>\n",
              "</table>\n",
              "<p>6243 rows × 9 columns</p>\n",
              "</div>"
            ],
            "text/plain": [
              "      Unnamed: 0  Unnamed: 0.1  ... insult  identity_hate\n",
              "0              8            21  ...      0              0\n",
              "1             24            48  ...      1              1\n",
              "2             29            59  ...      1              0\n",
              "3             38            76  ...      0              0\n",
              "4             40            81  ...      1              0\n",
              "...          ...           ...  ...    ...            ...\n",
              "6238       63877        152908  ...      1              0\n",
              "6239       63935        153049  ...      1              0\n",
              "6240       63945        153078  ...      0              0\n",
              "6241       63962        153119  ...      0              0\n",
              "6242       63976        153155  ...      1              0\n",
              "\n",
              "[6243 rows x 9 columns]"
            ]
          },
          "metadata": {
            "tags": []
          },
          "execution_count": 36
        }
      ]
    },
    {
      "cell_type": "code",
      "metadata": {
        "id": "bh-watT29fUd"
      },
      "source": [
        "\r\n",
        "sequences = tokenizer.texts_to_sequences(test[\"comment_text\"].astype(str))\r\n"
      ],
      "execution_count": 37,
      "outputs": []
    },
    {
      "cell_type": "code",
      "metadata": {
        "id": "aOKWNogr9t3T"
      },
      "source": [
        "data = pad_sequences(sequences, padding = 'post', maxlen = MAX_SEQUENCE_LENGTH)"
      ],
      "execution_count": 38,
      "outputs": []
    },
    {
      "cell_type": "code",
      "metadata": {
        "id": "9Es7TQX697r4"
      },
      "source": [
        "labels = ['toxic', 'severe_toxic', 'obscene', 'threat', 'insult', 'identity_hate']\r\n",
        "y = test[labels].values"
      ],
      "execution_count": 39,
      "outputs": []
    },
    {
      "cell_type": "code",
      "metadata": {
        "colab": {
          "base_uri": "https://localhost:8080/"
        },
        "id": "dop_JbZOFus-",
        "outputId": "f46ae5bd-120e-4f30-9f38-a9e861ce45ed"
      },
      "source": [
        "eval= model.evaluate(data,y)"
      ],
      "execution_count": 40,
      "outputs": [
        {
          "output_type": "stream",
          "text": [
            "196/196 [==============================] - 3s 17ms/step - loss: 0.2753 - recall_1: 0.8291\n"
          ],
          "name": "stdout"
        }
      ]
    },
    {
      "cell_type": "code",
      "metadata": {
        "id": "bzOcuYNe-pDW"
      },
      "source": [
        "performance = model.predict(data)\r\n"
      ],
      "execution_count": 41,
      "outputs": []
    },
    {
      "cell_type": "code",
      "metadata": {
        "id": "f_Ma6qTLGmIi",
        "colab": {
          "base_uri": "https://localhost:8080/"
        },
        "outputId": "ad0e8ca5-e59c-4f9b-b727-ee0a89e0aa9d"
      },
      "source": [
        "import sklearn\r\n",
        "y_pred =np.round(performance)\r\n",
        "print(\"RECALL: \", sklearn.metrics.recall_score(y, y_pred, average= 'weighted'))\r\n",
        "print(\"PRECISION: \",sklearn.metrics.precision_score(y, y_pred, average= 'weighted'))\r\n",
        "print(\"F1-SCORE: \",sklearn.metrics.f1_score(y, y_pred, average= 'weighted'))\r\n",
        "\r\n",
        "\r\n",
        "\r\n",
        "mat =sklearn.metrics.multilabel_confusion_matrix(y,y_pred)\r\n",
        "accuracy=[]\r\n",
        "for i in range(mat.shape[0]):\r\n",
        "\r\n",
        "  accuracy.append((mat[i][1][1]+mat[i][0][0])/(mat[i][1][1]+mat[i][0][0]+mat[i][0][1]+mat[i][1][0]))\r\n",
        "\r\n",
        "def Average(lst): \r\n",
        "    return sum(lst) / len(lst) \r\n",
        "\r\n",
        "accuracy_media =  Average(accuracy) \r\n",
        "print(\"ACCURACY: \",accuracy_media)"
      ],
      "execution_count": 42,
      "outputs": [
        {
          "output_type": "stream",
          "text": [
            "RECALL:  0.8290798730859429\n",
            "PRECISION:  0.8486377176734617\n",
            "F1-SCORE:  0.8371374871057221\n",
            "ACCURACY:  0.8747664050403118\n"
          ],
          "name": "stdout"
        }
      ]
    }
  ]
}